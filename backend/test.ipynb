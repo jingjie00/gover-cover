{
 "cells": [
  {
   "cell_type": "code",
   "execution_count": 6,
   "metadata": {},
   "outputs": [
    {
     "name": "stdout",
     "output_type": "stream",
     "text": [
      "{\"sequence_number\":\"0\",\"authentication_key\":\"0xfec5225a2cc4ec48e8e2161b486bf07c7d3b3f1118f6ccd9c50487a96c22d57e\"}\n"
     ]
    }
   ],
   "source": [
    "# Get account information\n",
    "\n",
    "import http.client\n",
    "\n",
    "conn = http.client.HTTPSConnection(\"api.testnet.aptoslabs.com\")\n",
    "\n",
    "conn.request(\"GET\", \"/v1/accounts/0xfec5225a2cc4ec48e8e2161b486bf07c7d3b3f1118f6ccd9c50487a96c22d57e\")\n",
    "\n",
    "res = conn.getresponse()\n",
    "data = res.read()\n",
    "\n",
    "print(data.decode(\"utf-8\"))"
   ]
  },
  {
   "cell_type": "code",
   "execution_count": null,
   "metadata": {},
   "outputs": [],
   "source": [
    "aptos account list \\                                                                                            ✔ │ took 3s \n",
    "--account 0x1 \\\n",
    "--node-api-key aptoslabs_JjDDwzUoHj2_7r6B5AYi5qiVsbLYFcvXAeyxA3JAp69YE \\\n",
    "--url https://api.testnet.aptoslabs.com"
   ]
  },
  {
   "cell_type": "code",
   "execution_count": null,
   "metadata": {},
   "outputs": [],
   "source": [
    "aptos account list --account 0x5957c5b644e62fa878a2fc24a8afd6c98ee38a1851908480b2be22a06223dd4b --node-api-key aptoslabs_JjDDwzUoHj2_7r6B5AYi5qiVsbLYFcvXAeyxA3JAp69YE --url https://api.testnet.aptoslabs.com"
   ]
  },
  {
   "cell_type": "code",
   "execution_count": null,
   "metadata": {},
   "outputs": [],
   "source": [
    "\n",
    "import argparse\n",
    "import asyncio\n",
    "\n",
    "from aptos_sdk.account_address import AccountAddress\n",
    "from aptos_sdk.async_client import RestClient\n",
    "\n",
    "\n",
    "async def main():\n",
    "    node_api_url = \"https://api.testnet.aptoslabs.com\"\n",
    "    api_key = \"0x5957c5b644e62fa878a2fc24a8afd6c98ee38a1851908480b2be22a06223dd4b\"\n",
    "\n",
    "    node_api_client = RestClient(node_api_url)\n",
    "    node_api_client.client.headers[\"Authorization\"] = f\"Bearer {api_key}\"\n",
    "\n",
    "    response = await node_api_client.account(AccountAddress.from_str(\"0x1\"))\n",
    "\n",
    "    print(response)\n",
    "\n",
    "\n",
    "asyncio.run(main())"
   ]
  },
  {
   "cell_type": "code",
   "execution_count": 10,
   "metadata": {},
   "outputs": [
    {
     "data": {
      "text/plain": [
       "40410923776542968093489196469965051152579393502958746708408414146220370681163"
      ]
     },
     "execution_count": 10,
     "metadata": {},
     "output_type": "execute_result"
    }
   ],
   "source": [
    "0x5957c5b644e62fa878a2fc24a8afd6c98ee38a1851908480b2be22a06223dd4b"
   ]
  },
  {
   "cell_type": "code",
   "execution_count": 13,
   "metadata": {},
   "outputs": [
    {
     "name": "stderr",
     "output_type": "stream",
     "text": [
      "/Applications/Xcode.app/Contents/Developer/Library/Frameworks/Python3.framework/Versions/3.9/lib/python3.9/genericpath.py:77: RuntimeWarning: coroutine 'main' was never awaited\n",
      "  m = tuple(map(os.fspath, m))\n",
      "RuntimeWarning: Enable tracemalloc to get the object allocation traceback\n"
     ]
    },
    {
     "ename": "ImportError",
     "evalue": "attempted relative import with no known parent package",
     "output_type": "error",
     "traceback": [
      "\u001b[0;31m---------------------------------------------------------------------------\u001b[0m",
      "\u001b[0;31mImportError\u001b[0m                               Traceback (most recent call last)",
      "Cell \u001b[0;32mIn[13], line 3\u001b[0m\n\u001b[1;32m      1\u001b[0m \u001b[38;5;28;01mimport\u001b[39;00m \u001b[38;5;21;01masyncio\u001b[39;00m\n\u001b[1;32m      2\u001b[0m \u001b[38;5;28;01mfrom\u001b[39;00m \u001b[38;5;21;01maptos_sdk\u001b[39;00m\u001b[38;5;21;01m.\u001b[39;00m\u001b[38;5;21;01masync_client\u001b[39;00m \u001b[38;5;28;01mimport\u001b[39;00m RestClient\n\u001b[0;32m----> 3\u001b[0m \u001b[38;5;28;01mfrom\u001b[39;00m \u001b[38;5;21;01m.\u001b[39;00m\u001b[38;5;21;01mcommon\u001b[39;00m \u001b[38;5;28;01mimport\u001b[39;00m NODE_URL\n\u001b[1;32m      5\u001b[0m \u001b[38;5;28;01masync\u001b[39;00m \u001b[38;5;28;01mdef\u001b[39;00m \u001b[38;5;21mmain\u001b[39m():\n\u001b[1;32m      6\u001b[0m     rest_client \u001b[38;5;241m=\u001b[39m RestClient(NODE_URL)\n",
      "\u001b[0;31mImportError\u001b[0m: attempted relative import with no known parent package"
     ]
    }
   ],
   "source": [
    "import asyncio\n",
    "from aptos_sdk.async_client import RestClient\n",
    "from .common import NODE_URL\n",
    "\n",
    "async def main():\n",
    "    rest_client = RestClient(NODE_URL)\n",
    "\n",
    "    # Transaction hash to check\n",
    "    txn_hash = '0x92c5624a088bdf449ad912e199a281514e120b041e53fe91f44704060f20b81d'\n",
    "\n",
    "    # Retrieve transaction details\n",
    "    txn_details = await rest_client.get_transaction_by_hash(txn_hash)\n",
    "    \n",
    "    # Print transaction details\n",
    "    print(\"\\n=== Transaction Details ===\")\n",
    "    print(txn_details)\n",
    "\n",
    "    await rest_client.close()\n",
    "\n",
    "asyncio.run(main())\n"
   ]
  },
  {
   "cell_type": "code",
   "execution_count": 4,
   "metadata": {},
   "outputs": [
    {
     "ename": "ImportError",
     "evalue": "cannot import name 'TransactionPayloadEntryFunction' from 'aptos_sdk.transactions' (/Users/jingjietan/Library/Python/3.9/lib/python/site-packages/aptos_sdk/transactions.py)",
     "output_type": "error",
     "traceback": [
      "\u001b[0;31m---------------------------------------------------------------------------\u001b[0m",
      "\u001b[0;31mImportError\u001b[0m                               Traceback (most recent call last)",
      "Cell \u001b[0;32mIn[4], line 3\u001b[0m\n\u001b[1;32m      1\u001b[0m \u001b[38;5;28;01mfrom\u001b[39;00m \u001b[38;5;21;01maptos_sdk\u001b[39;00m\u001b[38;5;21;01m.\u001b[39;00m\u001b[38;5;21;01maccount\u001b[39;00m \u001b[38;5;28;01mimport\u001b[39;00m Account\n\u001b[1;32m      2\u001b[0m \u001b[38;5;28;01mfrom\u001b[39;00m \u001b[38;5;21;01maptos_sdk\u001b[39;00m\u001b[38;5;21;01m.\u001b[39;00m\u001b[38;5;21;01masync_client\u001b[39;00m \u001b[38;5;28;01mimport\u001b[39;00m FaucetClient, IndexerClient, RestClient\n\u001b[0;32m----> 3\u001b[0m \u001b[38;5;28;01mfrom\u001b[39;00m \u001b[38;5;21;01maptos_sdk\u001b[39;00m\u001b[38;5;21;01m.\u001b[39;00m\u001b[38;5;21;01mtransactions\u001b[39;00m \u001b[38;5;28;01mimport\u001b[39;00m TransactionPayloadEntryFunction, EntryFunction, TransactionArguments\n\u001b[1;32m      5\u001b[0m \u001b[38;5;66;03m# Set up your REST client and account details\u001b[39;00m\n\u001b[1;32m      6\u001b[0m node_url \u001b[38;5;241m=\u001b[39m \u001b[38;5;124m\"\u001b[39m\u001b[38;5;124mhttps://fullnode.devnet.aptoslabs.com/v1\u001b[39m\u001b[38;5;124m\"\u001b[39m  \u001b[38;5;66;03m# or use testnet/mainnet as needed\u001b[39;00m\n",
      "\u001b[0;31mImportError\u001b[0m: cannot import name 'TransactionPayloadEntryFunction' from 'aptos_sdk.transactions' (/Users/jingjietan/Library/Python/3.9/lib/python/site-packages/aptos_sdk/transactions.py)"
     ]
    }
   ],
   "source": []
  },
  {
   "cell_type": "code",
   "execution_count": null,
   "metadata": {},
   "outputs": [],
   "source": []
  }
 ],
 "metadata": {
  "kernelspec": {
   "display_name": "Python 3",
   "language": "python",
   "name": "python3"
  },
  "language_info": {
   "codemirror_mode": {
    "name": "ipython",
    "version": 3
   },
   "file_extension": ".py",
   "mimetype": "text/x-python",
   "name": "python",
   "nbconvert_exporter": "python",
   "pygments_lexer": "ipython3",
   "version": "3.9.6"
  }
 },
 "nbformat": 4,
 "nbformat_minor": 2
}
